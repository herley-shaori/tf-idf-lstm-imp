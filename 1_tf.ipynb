{
 "cells": [
  {
   "cell_type": "code",
   "execution_count": 147,
   "metadata": {},
   "outputs": [],
   "source": [
    "import string\n",
    "import pandas as pd\n",
    "import numpy as np\n",
    "from sklearn.model_selection import KFold"
   ]
  },
  {
   "cell_type": "code",
   "execution_count": 2,
   "metadata": {},
   "outputs": [],
   "source": [
    "data = pd.read_csv('INTUITIVE1.csv')\n",
    "data"
   ]
  },
  {
   "cell_type": "code",
   "execution_count": 4,
   "metadata": {},
   "outputs": [],
   "source": [
    "new_columns = data.columns.values\n",
    "new_columns[2] = 'text'\n",
    "data.columns = new_columns"
   ]
  },
  {
   "cell_type": "code",
   "execution_count": 5,
   "metadata": {
    "scrolled": true
   },
   "outputs": [
    {
     "data": {
      "text/html": [
       "<div>\n",
       "<style scoped>\n",
       "    .dataframe tbody tr th:only-of-type {\n",
       "        vertical-align: middle;\n",
       "    }\n",
       "\n",
       "    .dataframe tbody tr th {\n",
       "        vertical-align: top;\n",
       "    }\n",
       "\n",
       "    .dataframe thead th {\n",
       "        text-align: right;\n",
       "    }\n",
       "</style>\n",
       "<table border=\"1\" class=\"dataframe\">\n",
       "  <thead>\n",
       "    <tr style=\"text-align: right;\">\n",
       "      <th></th>\n",
       "      <th>id</th>\n",
       "      <th>target</th>\n",
       "      <th>text</th>\n",
       "    </tr>\n",
       "  </thead>\n",
       "  <tbody>\n",
       "    <tr>\n",
       "      <th>0</th>\n",
       "      <td>1</td>\n",
       "      <td>0000100001000100000000001000000000001000010001...</td>\n",
       "      <td>['wmc', 'AM', 'anemia', 'sign', 'di', 'admiss'...</td>\n",
       "    </tr>\n",
       "    <tr>\n",
       "      <th>1</th>\n",
       "      <td>2</td>\n",
       "      <td>0000010001000100010001001000010001000100010010...</td>\n",
       "      <td>['VH', 'AM', 'discharg', 'summari', 'sign', 'd...</td>\n",
       "    </tr>\n",
       "    <tr>\n",
       "      <th>2</th>\n",
       "      <td>3</td>\n",
       "      <td>1000100010000100100001000100010010001000010010...</td>\n",
       "      <td>['aech', 'AM', 'pnuemonia', 'sign', 'di', 'adm...</td>\n",
       "    </tr>\n",
       "    <tr>\n",
       "      <th>3</th>\n",
       "      <td>4</td>\n",
       "      <td>0000010000000100100010000000100001000100010001...</td>\n",
       "      <td>['emh', 'AM', 'discharg', 'summari', 'sign', '...</td>\n",
       "    </tr>\n",
       "    <tr>\n",
       "      <th>4</th>\n",
       "      <td>5</td>\n",
       "      <td>0100100000001000100001000000010010001000000001...</td>\n",
       "      <td>['kfm', 'AM', 'congest', 'heart', 'failur', 'u...</td>\n",
       "    </tr>\n",
       "    <tr>\n",
       "      <th>...</th>\n",
       "      <td>...</td>\n",
       "      <td>...</td>\n",
       "      <td>...</td>\n",
       "    </tr>\n",
       "    <tr>\n",
       "      <th>1113</th>\n",
       "      <td>1245</td>\n",
       "      <td>1000010000000100010010000000010001000100010001...</td>\n",
       "      <td>['chh', 'AM', 'coronari', 'arteri', 'diseas', ...</td>\n",
       "    </tr>\n",
       "    <tr>\n",
       "      <th>1114</th>\n",
       "      <td>1246</td>\n",
       "      <td>1000000010000100100010000000010000000100010000...</td>\n",
       "      <td>['bcvhc', 'AM', 'discharg', 'summari', 'sign',...</td>\n",
       "    </tr>\n",
       "    <tr>\n",
       "      <th>1115</th>\n",
       "      <td>1247</td>\n",
       "      <td>0100010010001000100001001000010001001000010001...</td>\n",
       "      <td>['ccvgh', 'AM', 'congest', 'heart', 'failur', ...</td>\n",
       "    </tr>\n",
       "    <tr>\n",
       "      <th>1116</th>\n",
       "      <td>1248</td>\n",
       "      <td>1000010000001000100000001000010001001000010010...</td>\n",
       "      <td>['mmh', 'AM', 'fever', 'unsign', 'di', 'admiss...</td>\n",
       "    </tr>\n",
       "    <tr>\n",
       "      <th>1117</th>\n",
       "      <td>1249</td>\n",
       "      <td>1000100001000100000001000000010010000100100010...</td>\n",
       "      <td>['CH', 'AM', 'asthma', 'sign', 'di', 'admiss',...</td>\n",
       "    </tr>\n",
       "  </tbody>\n",
       "</table>\n",
       "<p>1118 rows × 3 columns</p>\n",
       "</div>"
      ],
      "text/plain": [
       "        id                                             target  \\\n",
       "0        1  0000100001000100000000001000000000001000010001...   \n",
       "1        2  0000010001000100010001001000010001000100010010...   \n",
       "2        3  1000100010000100100001000100010010001000010010...   \n",
       "3        4  0000010000000100100010000000100001000100010001...   \n",
       "4        5  0100100000001000100001000000010010001000000001...   \n",
       "...    ...                                                ...   \n",
       "1113  1245  1000010000000100010010000000010001000100010001...   \n",
       "1114  1246  1000000010000100100010000000010000000100010000...   \n",
       "1115  1247  0100010010001000100001001000010001001000010001...   \n",
       "1116  1248  1000010000001000100000001000010001001000010010...   \n",
       "1117  1249  1000100001000100000001000000010010000100100010...   \n",
       "\n",
       "                                                   text  \n",
       "0     ['wmc', 'AM', 'anemia', 'sign', 'di', 'admiss'...  \n",
       "1     ['VH', 'AM', 'discharg', 'summari', 'sign', 'd...  \n",
       "2     ['aech', 'AM', 'pnuemonia', 'sign', 'di', 'adm...  \n",
       "3     ['emh', 'AM', 'discharg', 'summari', 'sign', '...  \n",
       "4     ['kfm', 'AM', 'congest', 'heart', 'failur', 'u...  \n",
       "...                                                 ...  \n",
       "1113  ['chh', 'AM', 'coronari', 'arteri', 'diseas', ...  \n",
       "1114  ['bcvhc', 'AM', 'discharg', 'summari', 'sign',...  \n",
       "1115  ['ccvgh', 'AM', 'congest', 'heart', 'failur', ...  \n",
       "1116  ['mmh', 'AM', 'fever', 'unsign', 'di', 'admiss...  \n",
       "1117  ['CH', 'AM', 'asthma', 'sign', 'di', 'admiss',...  \n",
       "\n",
       "[1118 rows x 3 columns]"
      ]
     },
     "execution_count": 5,
     "metadata": {},
     "output_type": "execute_result"
    }
   ],
   "source": [
    "data"
   ]
  },
  {
   "cell_type": "code",
   "execution_count": 6,
   "metadata": {},
   "outputs": [
    {
     "data": {
      "text/plain": [
       "1118"
      ]
     },
     "execution_count": 6,
     "metadata": {},
     "output_type": "execute_result"
    }
   ],
   "source": [
    "data.text.nunique()"
   ]
  },
  {
   "cell_type": "markdown",
   "metadata": {},
   "source": [
    "Berdasarkan dua hasil diatas (sama-sama menghasilkan 1118 baris), maka semua teks medis adalah unik. Tidak ada dua teks yang memiliki kata-kata yang persis sama."
   ]
  },
  {
   "cell_type": "code",
   "execution_count": 134,
   "metadata": {
    "scrolled": false
   },
   "outputs": [],
   "source": [
    "table = str.maketrans('', '', string.punctuation)\n",
    "tampungan = list()\n",
    "for x in a:\n",
    "    b = ''\n",
    "    s = str(x)\n",
    "    words = s.split()\n",
    "    stripped = [w.translate(table) for w in words]\n",
    "    for y in stripped:\n",
    "        k = y.replace(\"‘\", '').replace(\"’\", '').replace(\"'\", '')\n",
    "        b+= k +' '\n",
    "    b = b.replace(\"‘\", '').replace(\"’\", '').replace(\"'\", '')\n",
    "    tampungan.append(b)"
   ]
  },
  {
   "cell_type": "code",
   "execution_count": 143,
   "metadata": {},
   "outputs": [],
   "source": [
    "data['teks'] = tampungan"
   ]
  },
  {
   "cell_type": "code",
   "execution_count": 145,
   "metadata": {
    "scrolled": true
   },
   "outputs": [],
   "source": [
    "data.drop('text', axis=1, inplace=True)"
   ]
  },
  {
   "cell_type": "code",
   "execution_count": 146,
   "metadata": {},
   "outputs": [
    {
     "data": {
      "text/html": [
       "<div>\n",
       "<style scoped>\n",
       "    .dataframe tbody tr th:only-of-type {\n",
       "        vertical-align: middle;\n",
       "    }\n",
       "\n",
       "    .dataframe tbody tr th {\n",
       "        vertical-align: top;\n",
       "    }\n",
       "\n",
       "    .dataframe thead th {\n",
       "        text-align: right;\n",
       "    }\n",
       "</style>\n",
       "<table border=\"1\" class=\"dataframe\">\n",
       "  <thead>\n",
       "    <tr style=\"text-align: right;\">\n",
       "      <th></th>\n",
       "      <th>id</th>\n",
       "      <th>target</th>\n",
       "      <th>teks</th>\n",
       "    </tr>\n",
       "  </thead>\n",
       "  <tbody>\n",
       "    <tr>\n",
       "      <th>0</th>\n",
       "      <td>1</td>\n",
       "      <td>0000100001000100000000001000000000001000010001...</td>\n",
       "      <td>wmc AM anemia sign di admiss date report statu...</td>\n",
       "    </tr>\n",
       "    <tr>\n",
       "      <th>1</th>\n",
       "      <td>2</td>\n",
       "      <td>0000010001000100010001001000010001000100010010...</td>\n",
       "      <td>VH AM discharg summari sign di admiss date rep...</td>\n",
       "    </tr>\n",
       "    <tr>\n",
       "      <th>2</th>\n",
       "      <td>3</td>\n",
       "      <td>1000100010000100100001000100010010001000010010...</td>\n",
       "      <td>aech AM pnuemonia sign di admiss date report s...</td>\n",
       "    </tr>\n",
       "    <tr>\n",
       "      <th>3</th>\n",
       "      <td>4</td>\n",
       "      <td>0000010000000100100010000000100001000100010001...</td>\n",
       "      <td>emh AM discharg summari sign di admiss date re...</td>\n",
       "    </tr>\n",
       "    <tr>\n",
       "      <th>4</th>\n",
       "      <td>5</td>\n",
       "      <td>0100100000001000100001000000010010001000000001...</td>\n",
       "      <td>kfm AM congest heart failur unsign di admiss d...</td>\n",
       "    </tr>\n",
       "    <tr>\n",
       "      <th>...</th>\n",
       "      <td>...</td>\n",
       "      <td>...</td>\n",
       "      <td>...</td>\n",
       "    </tr>\n",
       "    <tr>\n",
       "      <th>1113</th>\n",
       "      <td>1245</td>\n",
       "      <td>1000010000000100010010000000010001000100010001...</td>\n",
       "      <td>chh AM coronari arteri diseas sign di admiss d...</td>\n",
       "    </tr>\n",
       "    <tr>\n",
       "      <th>1114</th>\n",
       "      <td>1246</td>\n",
       "      <td>1000000010000100100010000000010000000100010000...</td>\n",
       "      <td>bcvhc AM discharg summari sign di admiss date ...</td>\n",
       "    </tr>\n",
       "    <tr>\n",
       "      <th>1115</th>\n",
       "      <td>1247</td>\n",
       "      <td>0100010010001000100001001000010001001000010001...</td>\n",
       "      <td>ccvgh AM congest heart failur rule out myocard...</td>\n",
       "    </tr>\n",
       "    <tr>\n",
       "      <th>1116</th>\n",
       "      <td>1248</td>\n",
       "      <td>1000010000001000100000001000010001001000010010...</td>\n",
       "      <td>mmh AM fever unsign di admiss date report stat...</td>\n",
       "    </tr>\n",
       "    <tr>\n",
       "      <th>1117</th>\n",
       "      <td>1249</td>\n",
       "      <td>1000100001000100000001000000010010000100100010...</td>\n",
       "      <td>CH AM asthma sign di admiss date report statu ...</td>\n",
       "    </tr>\n",
       "  </tbody>\n",
       "</table>\n",
       "<p>1118 rows × 3 columns</p>\n",
       "</div>"
      ],
      "text/plain": [
       "        id                                             target  \\\n",
       "0        1  0000100001000100000000001000000000001000010001...   \n",
       "1        2  0000010001000100010001001000010001000100010010...   \n",
       "2        3  1000100010000100100001000100010010001000010010...   \n",
       "3        4  0000010000000100100010000000100001000100010001...   \n",
       "4        5  0100100000001000100001000000010010001000000001...   \n",
       "...    ...                                                ...   \n",
       "1113  1245  1000010000000100010010000000010001000100010001...   \n",
       "1114  1246  1000000010000100100010000000010000000100010000...   \n",
       "1115  1247  0100010010001000100001001000010001001000010001...   \n",
       "1116  1248  1000010000001000100000001000010001001000010010...   \n",
       "1117  1249  1000100001000100000001000000010010000100100010...   \n",
       "\n",
       "                                                   teks  \n",
       "0     wmc AM anemia sign di admiss date report statu...  \n",
       "1     VH AM discharg summari sign di admiss date rep...  \n",
       "2     aech AM pnuemonia sign di admiss date report s...  \n",
       "3     emh AM discharg summari sign di admiss date re...  \n",
       "4     kfm AM congest heart failur unsign di admiss d...  \n",
       "...                                                 ...  \n",
       "1113  chh AM coronari arteri diseas sign di admiss d...  \n",
       "1114  bcvhc AM discharg summari sign di admiss date ...  \n",
       "1115  ccvgh AM congest heart failur rule out myocard...  \n",
       "1116  mmh AM fever unsign di admiss date report stat...  \n",
       "1117  CH AM asthma sign di admiss date report statu ...  \n",
       "\n",
       "[1118 rows x 3 columns]"
      ]
     },
     "execution_count": 146,
     "metadata": {},
     "output_type": "execute_result"
    }
   ],
   "source": [
    "data"
   ]
  },
  {
   "cell_type": "markdown",
   "metadata": {},
   "source": [
    "Kolom id, target, dan teks seperti penampakan df diatas akan digunakan dalam perhitungan tf-idf.\n",
    "<br> Dilanjutkan di 2_. <br>"
   ]
  },
  {
   "cell_type": "code",
   "execution_count": 148,
   "metadata": {},
   "outputs": [],
   "source": [
    "data.to_csv('2_data.csv',index=False)"
   ]
  }
 ],
 "metadata": {
  "kernelspec": {
   "display_name": "Python 3",
   "language": "python",
   "name": "python3"
  },
  "language_info": {
   "codemirror_mode": {
    "name": "ipython",
    "version": 3
   },
   "file_extension": ".py",
   "mimetype": "text/x-python",
   "name": "python",
   "nbconvert_exporter": "python",
   "pygments_lexer": "ipython3",
   "version": "3.7.6"
  }
 },
 "nbformat": 4,
 "nbformat_minor": 4
}
